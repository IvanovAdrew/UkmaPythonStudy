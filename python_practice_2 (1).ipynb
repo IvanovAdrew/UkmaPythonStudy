{
 "cells": [
  {
   "cell_type": "markdown",
   "metadata": {
    "id": "p9wwt0LZzNvn"
   },
   "source": [
    "# I. Змінні та памʼять."
   ]
  },
  {
   "cell_type": "markdown",
   "metadata": {
    "id": "HTJrrm95xSV9"
   },
   "source": [
    "1. Створити змінні, що посилаються на два цілих числа, що однакові за значенням, де значення належить проміжку від -5 до 256. Перевірте, чи будуть ці змінні рівні тільки за значенням або ж ще будуть посилатися на один і той самий обʼєкт в памʼяті? Наведіть код та дайте текстову відповідь нижче."
   ]
  },
  {
   "cell_type": "code",
   "execution_count": 2,
   "metadata": {
    "id": "TATni2vzayjG"
   },
   "outputs": [
    {
     "data": {
      "text/plain": [
       "(True, True)"
      ]
     },
     "execution_count": 2,
     "metadata": {},
     "output_type": "execute_result"
    }
   ],
   "source": [
    "# Створимо дві змінні з однаковими значеннями в межах проміжку від -5 до 256\n",
    "a = 100\n",
    "b = 100\n",
    "\n",
    "# Перевіримо, чи змінні рівні за значенням\n",
    "are_values_equal = (a == b)\n",
    "\n",
    "# Перевіримо, чи змінні посилаються на один і той самий об'єкт в пам'яті\n",
    "are_references_equal = (a is b)\n",
    "\n",
    "are_values_equal, are_references_equal"
   ]
  },
  {
   "cell_type": "markdown",
   "metadata": {
    "id": "zfRG_o3WbRdg"
   },
   "source": [
    "як бачимо, нам повертається два true, що означає, що значення рівні і змінні посилаються на один і той самий об'єкт в пам'яті, це відбувається тому, що в Python для оптимізації використання пам'яті цілі числа в діапазоні від -5 до 256 зберігаються як єдині об'єкти, на які можуть посилатися різні змінні, що мають однакові значення в цьому діапазоні "
   ]
  },
  {
   "cell_type": "markdown",
   "metadata": {
    "id": "ISORzt6M3vAt"
   },
   "source": [
    "2. За допомогою якої функції можна перевірити належність змінної до вказаного типу даних (напр. чи змінна True посилається на значення булевого та цілочисленого типу)?"
   ]
  },
  {
   "cell_type": "code",
   "execution_count": 3,
   "metadata": {
    "id": "9vL9CFaMbfyo"
   },
   "outputs": [
    {
     "name": "stdout",
     "output_type": "stream",
     "text": [
      "True True\n"
     ]
    }
   ],
   "source": [
    "is_bool = isinstance(True, bool)\n",
    "is_int = isinstance(True, int)\n",
    "\n",
    "print(is_bool, is_int)"
   ]
  },
  {
   "cell_type": "markdown",
   "metadata": {
    "id": "tRxugKAxwYLw"
   },
   "source": [
    "# II. Цілі числа та числа з рухомою комою"
   ]
  },
  {
   "cell_type": "markdown",
   "metadata": {
    "id": "NLHkgd5Gybc8"
   },
   "source": [
    "3. Створити дві змінні, що посилаються на будь-які ціле число та число з рухомою комою та продемонструвати такі арифметичні операції: додавання, віднімання, ділення, множення, ділення без залишку, ділення по модулю, приведення до ступеню. Всі результати операцій вивести на екран."
   ]
  },
  {
   "cell_type": "code",
   "execution_count": 7,
   "metadata": {
    "id": "nb8u_3pjb2cA"
   },
   "outputs": [
    {
     "data": {
      "text/plain": [
       "(9.5, 4.5, 2.8, 17.5, 2.0, 2.0, 129.64181424216494)"
      ]
     },
     "execution_count": 7,
     "metadata": {},
     "output_type": "execute_result"
    }
   ],
   "source": [
    "# Створимо дві змінні: одна для цілого числа, інша для числа з рухомою комою\n",
    "integer_variable = 7\n",
    "float_variable = 2.5\n",
    "\n",
    "# Додавання\n",
    "addition = integer_variable + float_variable\n",
    "\n",
    "# Віднімання\n",
    "subtraction = integer_variable - float_variable\n",
    "\n",
    "# Ділення\n",
    "division = integer_variable / float_variable\n",
    "\n",
    "# Множення\n",
    "multiplication = integer_variable * float_variable\n",
    "\n",
    "# Ділення без залишку\n",
    "floor_division = integer_variable // float_variable\n",
    "\n",
    "# Ділення по модулю\n",
    "modulus = integer_variable % float_variable\n",
    "\n",
    "# Приведення до ступеню\n",
    "exponentiation = integer_variable ** float_variable\n",
    "\n",
    "addition, subtraction, division, multiplication, floor_division, modulus, exponentiation"
   ]
  },
  {
   "cell_type": "markdown",
   "metadata": {
    "id": "1kBClKgPzZnC"
   },
   "source": [
    "4. Використовуючи змінні з вправи 3, продемонструйте механізм явного перетворення типів, де числа з рухомою комою перетворюються на цілі числа. Також визначте змінну, що посилається на значення булевого типу і спробуйте явно привести її до цілого числа."
   ]
  },
  {
   "cell_type": "code",
   "execution_count": 8,
   "metadata": {
    "id": "TbqJbkeUcKsD"
   },
   "outputs": [
    {
     "data": {
      "text/plain": [
       "(2, 1)"
      ]
     },
     "execution_count": 8,
     "metadata": {},
     "output_type": "execute_result"
    }
   ],
   "source": [
    "# Явне перетворення числа з рухомою комою на ціле число\n",
    "converted_integer_from_float = int(float_variable)\n",
    "\n",
    "# Визначення змінної булевого типу\n",
    "boolean_variable = True\n",
    "\n",
    "# Явне перетворення булевого значення на ціле число\n",
    "converted_integer_from_boolean = int(boolean_variable)\n",
    "\n",
    "converted_integer_from_float, converted_integer_from_boolean"
   ]
  },
  {
   "cell_type": "markdown",
   "metadata": {
    "id": "EVJ7AflwxrZi"
   },
   "source": [
    "# IІІ. Рядки (String)."
   ]
  },
  {
   "cell_type": "markdown",
   "metadata": {
    "id": "_s5ECzz9zE61"
   },
   "source": [
    "5. Створити пустий рядок двома різними способами."
   ]
  },
  {
   "cell_type": "code",
   "execution_count": 9,
   "metadata": {
    "id": "fkZJHu9Scvc-"
   },
   "outputs": [
    {
     "data": {
      "text/plain": [
       "('', '')"
      ]
     },
     "execution_count": 9,
     "metadata": {},
     "output_type": "execute_result"
    }
   ],
   "source": [
    "# Створення пустого рядка першим способом\n",
    "empty_string_1 = \"\"\n",
    "\n",
    "# Створення пустого рядка другим способом\n",
    "empty_string_2 = str()\n",
    "\n",
    "empty_string_1, empty_string_2"
   ]
  },
  {
   "cell_type": "markdown",
   "metadata": {
    "id": "4Bdn9J3MzLf_"
   },
   "source": [
    "6. Створити рядок з апострофом. Зробити його сирим. Вивести обидва рядка на екран."
   ]
  },
  {
   "cell_type": "code",
   "execution_count": 10,
   "metadata": {
    "id": "ivji_hsmc0GH"
   },
   "outputs": [
    {
     "data": {
      "text/plain": [
       "(\"It's a beautiful day.\", \"It's a beautiful day.\")"
      ]
     },
     "execution_count": 10,
     "metadata": {},
     "output_type": "execute_result"
    }
   ],
   "source": [
    "# Створення рядка з апострофом\n",
    "string_with_apostrophe = \"It's a beautiful day.\"\n",
    "\n",
    "# Створення сирого (raw) рядка з апострофом\n",
    "raw_string_with_apostrophe = r\"It's a beautiful day.\"\n",
    "\n",
    "string_with_apostrophe, raw_string_with_apostrophe"
   ]
  },
  {
   "cell_type": "markdown",
   "metadata": {
    "id": "bg_d8wM4z8dS"
   },
   "source": [
    "7. Створити змінну, що буде посилатися на Ваше прізвище латинкою. Створити форматований рядок, який буде мати вигляд \"My surname is ______\", де на місці нижніх підкреслень буде Ваше прізвище зі змінної."
   ]
  },
  {
   "cell_type": "code",
   "execution_count": 12,
   "metadata": {
    "id": "kuxFgpWndACq"
   },
   "outputs": [
    {
     "data": {
      "text/plain": [
       "'My surname is Ivanov'"
      ]
     },
     "execution_count": 12,
     "metadata": {},
     "output_type": "execute_result"
    }
   ],
   "source": [
    "# Створення змінної з прізвищем\n",
    "surname = \"Ivanov\"\n",
    "\n",
    "# Створення форматованого рядка\n",
    "formatted_string = f\"My surname is {surname}\"\n",
    "\n",
    "formatted_string"
   ]
  },
  {
   "cell_type": "markdown",
   "metadata": {
    "id": "1Nc6RqvQ0hxU"
   },
   "source": [
    "8. Маючи рядок \"My dog is crazy.\" перетворити його на список [\"my\", \"dog\", \"is\", \"crazy\"]"
   ]
  },
  {
   "cell_type": "code",
   "execution_count": 13,
   "metadata": {
    "id": "w1Ya4RqedUhw"
   },
   "outputs": [
    {
     "data": {
      "text/plain": [
       "['my', 'dog', 'is', 'crazy']"
      ]
     },
     "execution_count": 13,
     "metadata": {},
     "output_type": "execute_result"
    }
   ],
   "source": [
    "# Вихідний рядок\n",
    "string = \"My dog is crazy.\"\n",
    "\n",
    "# Перетворення рядка на список слів, переводячи усі символи у нижній регістр і видаляючи крапку\n",
    "words_list = string.lower().rstrip(\".\").split()\n",
    "\n",
    "words_list"
   ]
  },
  {
   "cell_type": "markdown",
   "metadata": {
    "id": "GYVqN9uP1D4n"
   },
   "source": [
    "# IV. Робота зі списками."
   ]
  },
  {
   "cell_type": "markdown",
   "metadata": {
    "id": "7-DeDunw2sO-"
   },
   "source": [
    "9. Створити список двома різними за синтаксисом способами. За допомогою вбудованої функції обчисліть довжину одного з них."
   ]
  },
  {
   "cell_type": "code",
   "execution_count": 15,
   "metadata": {
    "id": "zxg06Uuxdyoh"
   },
   "outputs": [
    {
     "data": {
      "text/plain": [
       "([1, 2, 3, 4, 5], [6, 7, 8, 9, 10], 5)"
      ]
     },
     "execution_count": 15,
     "metadata": {},
     "output_type": "execute_result"
    }
   ],
   "source": [
    "# Створення списку першим способом\n",
    "list_1 = [1, 2, 3, 4, 5]\n",
    "\n",
    "# Створення списку другим способом\n",
    "list_2 = list((6, 7, 8, 9, 10))\n",
    "\n",
    "# Обчислення довжини одного з списків\n",
    "list_length = len(list_1)\n",
    "\n",
    "list_1, list_2, list_length"
   ]
  },
  {
   "cell_type": "markdown",
   "metadata": {
    "id": "8vmGUTjL22gI"
   },
   "source": [
    "10. Створіть два списка та за допомогою спеціального методу додайте другий з них в якості останнього елемента першого."
   ]
  },
  {
   "cell_type": "code",
   "execution_count": 16,
   "metadata": {
    "id": "uHtjWYw7d7hm"
   },
   "outputs": [
    {
     "data": {
      "text/plain": [
       "[1, 2, 3, [4, 5, 6]]"
      ]
     },
     "execution_count": 16,
     "metadata": {},
     "output_type": "execute_result"
    }
   ],
   "source": [
    "# Створення двох списків\n",
    "list_1 = [1, 2, 3]\n",
    "list_2 = [4, 5, 6]\n",
    "\n",
    "# Додавання другого списку в якості останнього елемента першого за допомогою методу append()\n",
    "list_1.append(list_2)\n",
    "\n",
    "list_1"
   ]
  },
  {
   "cell_type": "markdown",
   "metadata": {
    "id": "JC3BkD-67_--"
   },
   "source": [
    "11. Створіть список, де елементами цього списку також є списки. Отримай перший елемент з останнього рядка та виведи значення на екран."
   ]
  },
  {
   "cell_type": "code",
   "execution_count": 17,
   "metadata": {
    "id": "Kz2jZHsGeLlz"
   },
   "outputs": [
    {
     "data": {
      "text/plain": [
       "5"
      ]
     },
     "execution_count": 17,
     "metadata": {},
     "output_type": "execute_result"
    }
   ],
   "source": [
    "# Створення списку, де елементами є інші списки\n",
    "list_of_lists = [[1, 2], [3, 4], [5, 6, 7]]\n",
    "\n",
    "# Отримання першого елемента з останнього рядка (списку)\n",
    "first_element_of_last_list = list_of_lists[-1][0]\n",
    "\n",
    "first_element_of_last_list"
   ]
  },
  {
   "cell_type": "markdown",
   "metadata": {
    "id": "JA47PKTv8zFK"
   },
   "source": [
    "12. Створіть список з десяти елементів різного типу. Отримайте всі елементи, окрім двох перших та двох останніх та збережіть їх в новій змінній."
   ]
  },
  {
   "cell_type": "code",
   "execution_count": 18,
   "metadata": {
    "id": "_rHdUR-ueP4-"
   },
   "outputs": [
    {
     "data": {
      "text/plain": [
       "[3.0, True, [5, 6], {'key': 'value'}, (7, 8), 9]"
      ]
     },
     "execution_count": 18,
     "metadata": {},
     "output_type": "execute_result"
    }
   ],
   "source": [
    "# Створення списку з десяти елементів різного типу\n",
    "mixed_list = [1, \"two\", 3.0, True, [5, 6], {\"key\": \"value\"}, (7, 8), 9, \"ten\", False]\n",
    "\n",
    "# Отримання всіх елементів, окрім двох перших та двох останніх\n",
    "sliced_list = mixed_list[2:-2]\n",
    "\n",
    "sliced_list"
   ]
  },
  {
   "cell_type": "markdown",
   "metadata": {
    "id": "pCjR1dJb1Qbi"
   },
   "source": [
    "# V. Робота з кортежами."
   ]
  },
  {
   "cell_type": "markdown",
   "metadata": {
    "id": "fAZCxAX06R_k"
   },
   "source": [
    "14. Створити кортеж з один елементом."
   ]
  },
  {
   "cell_type": "code",
   "execution_count": 19,
   "metadata": {
    "id": "H7d82WkQev3e"
   },
   "outputs": [
    {
     "data": {
      "text/plain": [
       "((5,), tuple)"
      ]
     },
     "execution_count": 19,
     "metadata": {},
     "output_type": "execute_result"
    }
   ],
   "source": [
    "# Створення кортежу з одним елементом\n",
    "tuple_with_one_element = (5,)\n",
    "\n",
    "tuple_with_one_element, type(tuple_with_one_element)"
   ]
  },
  {
   "cell_type": "markdown",
   "metadata": {
    "id": "8LCtYcmI6w1M"
   },
   "source": [
    "15. Порівняйте список та кортеж. Назвіть схожості та відмінності, випадки використання."
   ]
  },
  {
   "cell_type": "markdown",
   "metadata": {
    "id": "fUsN1Hnue0C6"
   },
   "source": [
    "*місце для текстової відповіді"
   ]
  },
  {
   "cell_type": "markdown",
   "metadata": {
    "id": "m0xrwFijAmDD"
   },
   "source": [
    "16. Створіть кортеж з 11ти елементів чисел з рухомою комою та отримайте кожен парний за індексом елемент в зворотньому порядку. Наприклад, маючи (1.2, 2.3, 3.3, 4.3, 5.3, 6.3, 7.3, 8.3, 9.3, 0.3), отримати (0.3, 8.3, 6.3, 4.3, 2.3). Результат збережіть в нову змінну та виведіть на екран."
   ]
  },
  {
   "cell_type": "code",
   "execution_count": 20,
   "metadata": {
    "id": "p-5DAH6XfAGA"
   },
   "outputs": [
    {
     "data": {
      "text/plain": [
       "(10.1, 8.8, 6.6, 4.4, 2.2)"
      ]
     },
     "execution_count": 20,
     "metadata": {},
     "output_type": "execute_result"
    }
   ],
   "source": [
    "# Створення кортежу з 11 чисел з рухомою комою\n",
    "float_tuple = (1.1, 2.2, 3.3, 4.4, 5.5, 6.6, 7.7, 8.8, 9.9, 10.10, 11.11)\n",
    "\n",
    "# Отримання кожного парного за індексом елемента в зворотньому порядку\n",
    "even_index_elements_reversed = float_tuple[-2::-2]\n",
    "\n",
    "even_index_elements_reversed"
   ]
  },
  {
   "cell_type": "markdown",
   "metadata": {
    "id": "rW_I9dt3x6cW"
   },
   "source": [
    "# VI. Множини (Set)."
   ]
  },
  {
   "cell_type": "markdown",
   "metadata": {
    "id": "zNjRLHLw1Bgg"
   },
   "source": [
    "17. Створити множину без елементів. Після цого за допомогою методу додайте кілька різних елементів до множини. Чи множини є змінним типом даних?"
   ]
  },
  {
   "cell_type": "code",
   "execution_count": 22,
   "metadata": {
    "id": "KOv7zc2Kfo4N"
   },
   "outputs": [
    {
     "data": {
      "text/plain": [
       "{2, 3.0, 'element1'}"
      ]
     },
     "execution_count": 22,
     "metadata": {},
     "output_type": "execute_result"
    }
   ],
   "source": [
    "# Створення множини без елементів\n",
    "empty_set = set()\n",
    "\n",
    "# Додавання кількох різних елементів до множини\n",
    "empty_set.add(\"element1\")\n",
    "empty_set.add(2)\n",
    "empty_set.add(3.0)\n",
    "\n",
    "empty_set"
   ]
  },
  {
   "cell_type": "markdown",
   "metadata": {
    "id": "vxS6dVYiftZQ"
   },
   "source": [
    "Так, множини є змінним типом даних, оскільки до них можна додавати або видаляти елементи після створення."
   ]
  },
  {
   "cell_type": "markdown",
   "metadata": {
    "id": "gHpT0Zw_1HEF"
   },
   "source": [
    "18. Створити множину, маючи список my_list = [1, 1, 2, 67, 67, 8, 9]. Пояснити, чому \"зникли\" деякі елементи."
   ]
  },
  {
   "cell_type": "code",
   "execution_count": 23,
   "metadata": {
    "id": "qCN4uvJ_fxmu"
   },
   "outputs": [
    {
     "data": {
      "text/plain": [
       "{1, 2, 8, 9, 67}"
      ]
     },
     "execution_count": 23,
     "metadata": {},
     "output_type": "execute_result"
    }
   ],
   "source": [
    "# Створення списку\n",
    "my_list = [1, 1, 2, 67, 67, 8, 9]\n",
    "\n",
    "# Створення множини зі списку\n",
    "my_set = set(my_list)\n",
    "\n",
    "my_set"
   ]
  },
  {
   "cell_type": "markdown",
   "metadata": {
    "id": "tFNc1e20fyny"
   },
   "source": [
    "Деякі елементи \"зникли\" через те, що множини в Python є невпорядкованими колекціями унікальних елементів. Коли ми перетворюємо список в множину, автоматично видаляються всі дублікати, оскільки кожен елемент у множині може з'явитися тільки один раз."
   ]
  },
  {
   "cell_type": "markdown",
   "metadata": {
    "id": "SRMkGizS1UwY"
   },
   "source": [
    "19. Створіть дві множини. Продемонстуйте над ними операції: обʼєднання, різниці, пересічі та симетричної різниці. Використовуйте методи, що не змінюють множини, а створюють нові."
   ]
  },
  {
   "cell_type": "code",
   "execution_count": 25,
   "metadata": {
    "id": "h0T-VuDnf3Ri"
   },
   "outputs": [
    {
     "data": {
      "text/plain": [
       "({1, 2, 3, 4, 5, 6, 7, 8}, {1, 2, 3}, {6, 7, 8}, {4, 5}, {1, 2, 3, 6, 7, 8})"
      ]
     },
     "execution_count": 25,
     "metadata": {},
     "output_type": "execute_result"
    }
   ],
   "source": [
    "# Створення двох множин\n",
    "set1 = {1, 2, 3, 4, 5}\n",
    "set2 = {4, 5, 6, 7, 8}\n",
    "\n",
    "# Об'єднання множин\n",
    "union = set1.union(set2)\n",
    "\n",
    "# Різниця множин\n",
    "difference_1_2 = set1.difference(set2)\n",
    "difference_2_1 = set2.difference(set1)\n",
    "\n",
    "# Пересічення множин\n",
    "intersection = set1.intersection(set2)\n",
    "\n",
    "# Симетрична різниця множин\n",
    "symmetric_difference = set1.symmetric_difference(set2)\n",
    "\n",
    "union, difference_1_2, difference_2_1, intersection, symmetric_difference"
   ]
  },
  {
   "cell_type": "markdown",
   "metadata": {
    "id": "kWc8gkzTx7Ea"
   },
   "source": [
    "# VII. Словники (Dictionary)."
   ]
  },
  {
   "cell_type": "markdown",
   "metadata": {
    "id": "i5FLwj-B2ybQ"
   },
   "source": [
    "20. Створіть пустий словник. До нього додайте чотири пари елементів такі, щоб їхні ключі були різних типів. Чи може список бути ключем? Чому?"
   ]
  },
  {
   "cell_type": "code",
   "execution_count": 28,
   "metadata": {
    "id": "hxgv3BzrgLAV"
   },
   "outputs": [
    {
     "data": {
      "text/plain": [
       "{1: 'integer key', 'two': 'string key', 3.14: 'float key', (4, 5): 'tuple key'}"
      ]
     },
     "execution_count": 28,
     "metadata": {},
     "output_type": "execute_result"
    }
   ],
   "source": [
    "# Створення пустого словника\n",
    "my_dict = {}\n",
    "\n",
    "# Додавання чотирьох пар елементів з різними типами ключів\n",
    "my_dict[1] = \"integer key\"  # Ціле число як ключ\n",
    "my_dict[\"two\"] = \"string key\"  # Рядок як ключ\n",
    "my_dict[3.14] = \"float key\"  # Число з рухомою комою як ключ\n",
    "my_dict[(4, 5)] = \"tuple key\"  # Кортеж як ключ\n",
    "\n",
    "my_dict"
   ]
  },
  {
   "cell_type": "markdown",
   "metadata": {
    "id": "zwa7UVN-gR3m"
   },
   "source": [
    "Не може, оскільки ключі у словнику мають бути не змінними (immutable). Списки є змінними (mutable)."
   ]
  },
  {
   "cell_type": "markdown",
   "metadata": {
    "id": "WM_pMlJsgoNf"
   },
   "source": [
    "21. Створіть словник, де значенням в одній з пар теж буде словник, який теж має вкладений словник. Виведіть на екран значення, що міститься в словнику, що знаходиться на найнижчому рівні ієрархії вкладеності (найбільш внутрішній)."
   ]
  },
  {
   "cell_type": "code",
   "execution_count": 29,
   "metadata": {
    "id": "60dlP7IHhAy4"
   },
   "outputs": [
    {
     "data": {
      "text/plain": [
       "'innerMostValue'"
      ]
     },
     "execution_count": 29,
     "metadata": {},
     "output_type": "execute_result"
    }
   ],
   "source": [
    "# Створення словника з вкладеними словниками\n",
    "nested_dict = {\n",
    "    \"key1\": \"value1\",\n",
    "    \"key2\": {\n",
    "        \"nestedKey1\": \"nestedValue1\",\n",
    "        \"nestedKey2\": {\n",
    "            \"innerMostKey\": \"innerMostValue\"\n",
    "        }\n",
    "    }\n",
    "}\n",
    "\n",
    "# Виведення значення з найбільш внутрішнього словника\n",
    "inner_most_value = nested_dict[\"key2\"][\"nestedKey2\"][\"innerMostKey\"]\n",
    "\n",
    "inner_most_value"
   ]
  },
  {
   "cell_type": "markdown",
   "metadata": {
    "id": "xOZP0hkx6cCr"
   },
   "source": [
    "# Вітаю! Ви велика(ий) молодець, що впоралась(вся). Похваліть себе та побалуйте чимось приємним. Я Вами пишаюся."
   ]
  }
 ],
 "metadata": {
  "colab": {
   "provenance": []
  },
  "kernelspec": {
   "display_name": "Python 3 (ipykernel)",
   "language": "python",
   "name": "python3"
  },
  "language_info": {
   "codemirror_mode": {
    "name": "ipython",
    "version": 3
   },
   "file_extension": ".py",
   "mimetype": "text/x-python",
   "name": "python",
   "nbconvert_exporter": "python",
   "pygments_lexer": "ipython3",
   "version": "3.12.1"
  }
 },
 "nbformat": 4,
 "nbformat_minor": 4
}
